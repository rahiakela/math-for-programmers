{
  "nbformat": 4,
  "nbformat_minor": 0,
  "metadata": {
    "colab": {
      "name": "2-vector-arithmetic-in-3d.ipynb",
      "provenance": [],
      "toc_visible": true,
      "authorship_tag": "ABX9TyO8zr0sO33gYJeZqwTzRPOx",
      "include_colab_link": true
    },
    "kernelspec": {
      "name": "python3",
      "display_name": "Python 3"
    }
  },
  "cells": [
    {
      "cell_type": "markdown",
      "metadata": {
        "id": "view-in-github",
        "colab_type": "text"
      },
      "source": [
        "<a href=\"https://colab.research.google.com/github/rahiakela/math-for-programmers/blob/main/3-ascending-to-3d-world/2_vector_arithmetic_in_3d.ipynb\" target=\"_parent\"><img src=\"https://colab.research.google.com/assets/colab-badge.svg\" alt=\"Open In Colab\"/></a>"
      ]
    },
    {
      "cell_type": "markdown",
      "metadata": {
        "id": "BvzIrQk84sLb"
      },
      "source": [
        "# Vector arithmetic in 3D"
      ]
    },
    {
      "cell_type": "markdown",
      "metadata": {
        "id": "YfGZ2Cny4tAl"
      },
      "source": [
        "In the 2D plane, we worked with three interchangeable mental models of a vector:\r\n",
        "coordinate pairs, arrows of fixed length and direction, and points positioned relative to the origin.\r\n",
        "\r\n",
        "<img src='https://github.com/rahiakela/img-repo/blob/master/math-for-programmers/2d-plane.png?raw=1' width='800'/>\r\n",
        "\r\n",
        "We can interpret a 3D vector in similar ways. Instead of viewing a rectangular portion of the plane, we start with a finite box of 3D space. Such a\r\n",
        "3D box, has a finite height, width, and depth. In 3D, we keep the notions of x and y directions, and we add a z direction with which to measure the depth.\r\n",
        "\r\n",
        "<img src='https://github.com/rahiakela/img-repo/blob/master/math-for-programmers/3d-plane.png?raw=1' width='800'/>\r\n",
        "\r\n",
        "Arrows and points work as mental models for vectors in 3D just like in 2D, and we can measure them similarly with coordinates.\r\n",
        "\r\n"
      ]
    },
    {
      "cell_type": "markdown",
      "metadata": {
        "id": "edMQwTlh7ILO"
      },
      "source": [
        "## Setup"
      ]
    },
    {
      "cell_type": "code",
      "metadata": {
        "id": "U41ySNY27J0a",
        "outputId": "2ec4d6c6-b8f2-4109-d202-e405f639a998",
        "colab": {
          "base_uri": "https://localhost:8080/"
        }
      },
      "source": [
        "%%shell\r\n",
        "\r\n",
        "wget https://raw.githubusercontent.com/rahiakela/math-for-programmers/main/3-ascending-to-3d-world/vectors.py\r\n",
        "wget https://raw.githubusercontent.com/rahiakela/math-for-programmers/main/3-ascending-to-3d-world/colors.py\r\n",
        "wget https://raw.githubusercontent.com/rahiakela/math-for-programmers/main/3-ascending-to-3d-world/draw2d.py\r\n",
        "wget https://raw.githubusercontent.com/rahiakela/math-for-programmers/main/3-ascending-to-3d-world/draw3d.py"
      ],
      "execution_count": 1,
      "outputs": [
        {
          "output_type": "stream",
          "text": [
            "--2021-01-15 11:51:48--  https://raw.githubusercontent.com/rahiakela/math-for-programmers/main/3-ascending-to-3d-world/vectors.py\n",
            "Resolving raw.githubusercontent.com (raw.githubusercontent.com)... 151.101.0.133, 151.101.64.133, 151.101.128.133, ...\n",
            "Connecting to raw.githubusercontent.com (raw.githubusercontent.com)|151.101.0.133|:443... connected.\n",
            "HTTP request sent, awaiting response... 200 OK\n",
            "Length: 1682 (1.6K) [text/plain]\n",
            "Saving to: ‘vectors.py’\n",
            "\n",
            "vectors.py          100%[===================>]   1.64K  --.-KB/s    in 0s      \n",
            "\n",
            "2021-01-15 11:51:48 (17.7 MB/s) - ‘vectors.py’ saved [1682/1682]\n",
            "\n",
            "--2021-01-15 11:51:48--  https://raw.githubusercontent.com/rahiakela/math-for-programmers/main/3-ascending-to-3d-world/colors.py\n",
            "Resolving raw.githubusercontent.com (raw.githubusercontent.com)... 151.101.0.133, 151.101.64.133, 151.101.128.133, ...\n",
            "Connecting to raw.githubusercontent.com (raw.githubusercontent.com)|151.101.0.133|:443... connected.\n",
            "HTTP request sent, awaiting response... 200 OK\n",
            "Length: 97 [text/plain]\n",
            "Saving to: ‘colors.py’\n",
            "\n",
            "colors.py           100%[===================>]      97  --.-KB/s    in 0s      \n",
            "\n",
            "2021-01-15 11:51:49 (6.32 MB/s) - ‘colors.py’ saved [97/97]\n",
            "\n",
            "--2021-01-15 11:51:49--  https://raw.githubusercontent.com/rahiakela/math-for-programmers/main/3-ascending-to-3d-world/draw2d.py\n",
            "Resolving raw.githubusercontent.com (raw.githubusercontent.com)... 151.101.0.133, 151.101.64.133, 151.101.128.133, ...\n",
            "Connecting to raw.githubusercontent.com (raw.githubusercontent.com)|151.101.0.133|:443... connected.\n",
            "HTTP request sent, awaiting response... 200 OK\n",
            "Length: 4955 (4.8K) [text/plain]\n",
            "Saving to: ‘draw2d.py’\n",
            "\n",
            "draw2d.py           100%[===================>]   4.84K  --.-KB/s    in 0s      \n",
            "\n",
            "2021-01-15 11:51:49 (59.3 MB/s) - ‘draw2d.py’ saved [4955/4955]\n",
            "\n",
            "--2021-01-15 11:51:49--  https://raw.githubusercontent.com/rahiakela/math-for-programmers/main/3-ascending-to-3d-world/draw3d.py\n",
            "Resolving raw.githubusercontent.com (raw.githubusercontent.com)... 151.101.0.133, 151.101.64.133, 151.101.128.133, ...\n",
            "Connecting to raw.githubusercontent.com (raw.githubusercontent.com)|151.101.0.133|:443... connected.\n",
            "HTTP request sent, awaiting response... 200 OK\n",
            "Length: 5550 (5.4K) [text/plain]\n",
            "Saving to: ‘draw3d.py’\n",
            "\n",
            "draw3d.py           100%[===================>]   5.42K  --.-KB/s    in 0s      \n",
            "\n",
            "2021-01-15 11:51:49 (34.5 MB/s) - ‘draw3d.py’ saved [5550/5550]\n",
            "\n"
          ],
          "name": "stdout"
        },
        {
          "output_type": "execute_result",
          "data": {
            "text/plain": [
              ""
            ]
          },
          "metadata": {
            "tags": []
          },
          "execution_count": 1
        }
      ]
    },
    {
      "cell_type": "code",
      "metadata": {
        "id": "ORaaz73-7NQq"
      },
      "source": [
        "from draw3d import *\r\n",
        "from vectors import *\r\n",
        "\r\n",
        "%load_ext autoreload\r\n",
        "%autoreload 2"
      ],
      "execution_count": 2,
      "outputs": []
    },
    {
      "cell_type": "markdown",
      "metadata": {
        "id": "kDRcN89d9pu6"
      },
      "source": [
        "## Adding 3D vectors"
      ]
    },
    {
      "cell_type": "markdown",
      "metadata": {
        "id": "S06rLnCz9s6p"
      },
      "source": [
        "In 3D, vector addition can still be accomplished by adding coordinates. The vectors `(2, 1, 1)` and `(1, 2, 2)` sum to `(2 + 1, 1 + 2, 1 + 2) = (3, 3, 3)`. We can start at the origin and place the two input vectors tip-to-tail in either order to get to the sum point `(3, 3, 3)`.\r\n",
        "\r\n",
        "<img src='https://github.com/rahiakela/img-repo/blob/master/math-for-programmers/3d-vec-add.png?raw=1' width='800'/>"
      ]
    },
    {
      "cell_type": "code",
      "metadata": {
        "id": "hU_5dSon-sCJ"
      },
      "source": [
        "v1 = [2, 1, 1]\r\n",
        "v2 = [1, 2, 2]\r\n",
        "v3 = add(*(v1, v2))"
      ],
      "execution_count": 3,
      "outputs": []
    },
    {
      "cell_type": "code",
      "metadata": {
        "id": "g0-PGZkJcWFl",
        "colab": {
          "base_uri": "https://localhost:8080/"
        },
        "outputId": "c0a92eac-d6e9-40f6-f851-833bbcb0a93b"
      },
      "source": [
        "v3"
      ],
      "execution_count": 4,
      "outputs": [
        {
          "output_type": "execute_result",
          "data": {
            "text/plain": [
              "(3, 3, 3)"
            ]
          },
          "metadata": {
            "tags": []
          },
          "execution_count": 4
        }
      ]
    },
    {
      "cell_type": "code",
      "metadata": {
        "id": "XLxHG2GqcbuI",
        "colab": {
          "base_uri": "https://localhost:8080/"
        },
        "outputId": "2382b9a8-68eb-4701-abef-fe33228e4069"
      },
      "source": [
        "v1 = [1, 2, 2]\r\n",
        "v2 = [2, 1, 1]\r\n",
        "v3 = add(*(v1, v2))\r\n",
        "v3"
      ],
      "execution_count": 5,
      "outputs": [
        {
          "output_type": "execute_result",
          "data": {
            "text/plain": [
              "(3, 3, 3)"
            ]
          },
          "metadata": {
            "tags": []
          },
          "execution_count": 5
        }
      ]
    },
    {
      "cell_type": "markdown",
      "metadata": {
        "id": "oHSN1-si-9eZ"
      },
      "source": [
        "As in 2D, we can add any number of 3D vectors together by summing all of their\r\n",
        "x-coordinates, all of their y-coordinates, and all of their z-coordinates. These three sums give us the coordinates of the new vector. \r\n",
        "\r\n",
        "For instance, in the sum `(1, 1, 3) + (2, 4, –4) + (4, 2, –2)`, the respective x-coordinates are 1, 2, and 4, which sum to 7. The y-coordinates sum to 7 as well, and the z-coordinates sum to –3; therefore, the vector sum is `(7, 7, –3)`.\r\n",
        "\r\n",
        "<img src='https://github.com/rahiakela/img-repo/blob/master/math-for-programmers/3d-vec-adding.png?raw=1' width='800'/>\r\n",
        "\r\n",
        "In Python, we can write a concise function to sum any number of input vectors, and that works in two or three dimensions."
      ]
    },
    {
      "cell_type": "code",
      "metadata": {
        "id": "ISHMvKIN-6N1"
      },
      "source": [
        "def add(*vectors):\r\n",
        "  by_coordinate = zip(*vectors)\r\n",
        "  coordinate_sums = [sum(coords) for coords in by_coordinate]\r\n",
        "\r\n",
        "  return tuple(coordinate_sums)"
      ],
      "execution_count": 6,
      "outputs": []
    },
    {
      "cell_type": "markdown",
      "metadata": {
        "id": "-yA_s-3MhGXf"
      },
      "source": [
        "Let’s break it down. Calling Python’s zip function on the input vectors extracts their x-coordinates, y-coordinates, and z-coordinates."
      ]
    },
    {
      "cell_type": "code",
      "metadata": {
        "id": "9i0B1jmv_K1V",
        "colab": {
          "base_uri": "https://localhost:8080/"
        },
        "outputId": "47291960-402f-4403-9a38-e966c459033a"
      },
      "source": [
        "list(zip(*[(1,1,3),(2,4,-4),(4,2,-2)]))"
      ],
      "execution_count": 7,
      "outputs": [
        {
          "output_type": "execute_result",
          "data": {
            "text/plain": [
              "[(1, 2, 4), (1, 4, 2), (3, -4, -2)]"
            ]
          },
          "metadata": {
            "tags": []
          },
          "execution_count": 7
        }
      ]
    },
    {
      "cell_type": "markdown",
      "metadata": {
        "id": "h8K7TyZAD9ym"
      },
      "source": [
        "If we apply Python’s sum function to each of the grouped coordinates, we get the sums of x, y, and z values, respectively:"
      ]
    },
    {
      "cell_type": "code",
      "metadata": {
        "id": "NmcheTEFD0pZ",
        "colab": {
          "base_uri": "https://localhost:8080/"
        },
        "outputId": "2199bf3d-3c02-4570-e48e-38e477f71651"
      },
      "source": [
        "[sum(coords) for coords in [(1,2,4),(1,4,2),(3,-4,-2)]]"
      ],
      "execution_count": 8,
      "outputs": [
        {
          "output_type": "execute_result",
          "data": {
            "text/plain": [
              "[7, 7, -3]"
            ]
          },
          "metadata": {
            "tags": []
          },
          "execution_count": 8
        }
      ]
    },
    {
      "cell_type": "markdown",
      "metadata": {
        "id": "e-ntq24vEWF9"
      },
      "source": [
        "Finally, for consistency, we convert this from a list to a tuple because we’ve represented all of our vectors as tuples to this point. The result is the tuple (7, 7, 3). We could also have written the add function as the following one-liner."
      ]
    },
    {
      "cell_type": "code",
      "metadata": {
        "id": "OIMFahAFh-7l"
      },
      "source": [
        "def add(*vectors):\r\n",
        "  return tuple(map(sum, zip(*vectors)))"
      ],
      "execution_count": 9,
      "outputs": []
    },
    {
      "cell_type": "code",
      "metadata": {
        "id": "YCvFJDpHiMSq",
        "colab": {
          "base_uri": "https://localhost:8080/"
        },
        "outputId": "d3ca3cad-4a71-40c7-8134-0aa99f9baa63"
      },
      "source": [
        "add(*[(1,1,3),(2,4,-4),(4,2,-2)])"
      ],
      "execution_count": 10,
      "outputs": [
        {
          "output_type": "execute_result",
          "data": {
            "text/plain": [
              "(7, 7, -3)"
            ]
          },
          "metadata": {
            "tags": []
          },
          "execution_count": 10
        }
      ]
    },
    {
      "cell_type": "markdown",
      "metadata": {
        "id": "r6hnwyPCkd2f"
      },
      "source": [
        "##Scalar multiplication in 3D"
      ]
    },
    {
      "cell_type": "markdown",
      "metadata": {
        "id": "Ugyi7CjDkeu7"
      },
      "source": [
        "To multiply a 3D vector by a scalar, we multiply all of its components by the scalar factor.\r\n",
        "\r\n",
        "For example, the vector (1, 2, 3) multiplied by the scalar 2 gives us (2, 4, 6). This resulting vector is twice as long but points in the same direction as in the 2D case. Like v = (1, 2, 3) and its scalar multiple 2 · v = (2, 4, 6)."
      ]
    },
    {
      "cell_type": "code",
      "metadata": {
        "id": "b4cJUBHi4rh-",
        "outputId": "8c8038f6-237e-4d92-fa24-5a104e5951e1",
        "colab": {
          "base_uri": "https://localhost:8080/"
        }
      },
      "source": [
        "v1 = [1, 2, 3]\r\n",
        "v2 = scale(2, v1)\r\n",
        "v2"
      ],
      "execution_count": 12,
      "outputs": [
        {
          "output_type": "execute_result",
          "data": {
            "text/plain": [
              "(2, 4, 6)"
            ]
          },
          "metadata": {
            "tags": []
          },
          "execution_count": 12
        }
      ]
    },
    {
      "cell_type": "code",
      "metadata": {
        "id": "RZbMuavw5DwX",
        "outputId": "d4dc1372-e788-4dbe-fa21-b32f839f6cd4",
        "colab": {
          "base_uri": "https://localhost:8080/",
          "height": 248
        }
      },
      "source": [
        "draw3d(\r\n",
        "    Points3D((1, 2, 3), (2, 4, 6)),\r\n",
        "    Arrow3D((1, 2, 3), (2, 4, 6)),\r\n",
        "    Segment3D((0, 0, 0), (2, 4, 6)),\r\n",
        "    Box3D(1, 2, 3),\r\n",
        "    Box3D(2, 4, 6)\r\n",
        "    )"
      ],
      "execution_count": 15,
      "outputs": [
        {
          "output_type": "display_data",
          "data": {
            "image/png": "[encoded data removed]",
            "text/plain": [
              "<Figure size 432x288 with 1 Axes>"
            ]
          },
          "metadata": {
            "tags": [],
            "needs_background": "light"
          }
        }
      ]
    },
    {
      "cell_type": "markdown",
      "metadata": {
        "id": "ONN228NOE7pK"
      },
      "source": [
        "## Exercises"
      ]
    },
    {
      "cell_type": "markdown",
      "metadata": {
        "id": "IDBG9O-2v4AL"
      },
      "source": [
        "**Ex-3.1**: Draw the 3D arrow and point representing the coordinates\r\n",
        "(–1, –2, 2) as well as the dashed box that makes the arrow look 3D. Do this drawing by hand for practice, but from now on, we’ll use Python to draw for us."
      ]
    },
    {
      "cell_type": "code",
      "metadata": {
        "id": "xEMBsUKKEppB"
      },
      "source": [
        "draw3d(\r\n",
        "    Points3D((-1, -2, 2)),\r\n",
        "    Arrow3D((-1, -2, 2)),\r\n",
        "    Segment3D((0, 0, 0), (-1, -2, 2)),\r\n",
        "    Box3D(-1, -2, 2)\r\n",
        "    )"
      ],
      "execution_count": null,
      "outputs": []
    },
    {
      "cell_type": "markdown",
      "metadata": {
        "id": "dNmjD-jTx7Ny"
      },
      "source": [
        "**Ex-3.2**: There are exactly eight 3D vectors whose coordinates\r\n",
        "are all either +1 or –1. For instance, (1, –1, 1) is one of these. Plot all of\r\n",
        "these eight vectors as points. Then figure out how to connect them with line segments using Segment3D objects to form the outline of a cube.\r\n",
        "\r\n",
        "**Hint** - You’ll need 12 segments in total.\r\n",
        "\r\n",
        "**Solution** - Because there are only 8 vertices and 12 edges, it’s not too tedious to list them all, but I decided to enumerate them with a list comprehension. For the vertices, I let x, y, and z range over the list of two possible values [1,–1] and collected the eight results. For the edges, I grouped them into three sets of four that point in each coordinate direction. For instance, there are four edges that go from x = –1 to x = 1, while their y- and z-coordinates are the same at both endpoints:"
      ]
    },
    {
      "cell_type": "code",
      "metadata": {
        "id": "L6Ou19mMwUim"
      },
      "source": [
        "pm1 = [1, -1]\r\n",
        "vertices = [(x, y, z) for x in pm1 for y in pm1 for z in pm1]\r\n",
        "edges = [((-1, y, z), (1, y, z)) for y in pm1 for z in pm1] +\\\r\n",
        "        [((x, -1, z), (x, 1, z)) for x in pm1 for z in pm1] +\\\r\n",
        "        [((x, y, -1), (x, y, 1)) for x in pm1 for y in pm1]\r\n",
        "\r\n",
        "draw3d(\r\n",
        "    Points3D(*vertices, color=blue),\r\n",
        "    *[Segment3D(*edge) for edge in edges]\r\n",
        ")"
      ],
      "execution_count": null,
      "outputs": []
    }
  ]
}