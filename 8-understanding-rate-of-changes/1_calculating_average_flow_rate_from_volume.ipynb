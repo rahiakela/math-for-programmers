{
  "nbformat": 4,
  "nbformat_minor": 0,
  "metadata": {
    "colab": {
      "name": "1-calculating-average-flow-rate-from-volume.ipynb",
      "provenance": [],
      "toc_visible": true,
      "authorship_tag": "ABX9TyMzxiQNTC4nG3H23DkMCbq5",
      "include_colab_link": true
    },
    "kernelspec": {
      "name": "python3",
      "display_name": "Python 3"
    }
  },
  "cells": [
    {
      "cell_type": "markdown",
      "metadata": {
        "id": "view-in-github",
        "colab_type": "text"
      },
      "source": [
        "<a href=\"https://colab.research.google.com/github/rahiakela/math-for-programmers/blob/main/8-understanding-rate-of-changes/1_calculating_average_flow_rate_from_volume.ipynb\" target=\"_parent\"><img src=\"https://colab.research.google.com/assets/colab-badge.svg\" alt=\"Open In Colab\"/></a>"
      ]
    },
    {
      "cell_type": "markdown",
      "metadata": {
        "id": "a4hfP4jf7UJp"
      },
      "source": [
        "# Calculating average flow rate from volume"
      ]
    },
    {
      "cell_type": "markdown",
      "metadata": {
        "id": "w60Nj2cW70Vt"
      },
      "source": [
        "In this notebook, I introduce you to two of the most important concepts from calculus: **the derivative and the integral**. Both of these are operations that work with functions.\r\n",
        "\r\n",
        "The derivative takes a function and gives you another function measuring its rate of change. The integral does the opposite; it takes a function representing a rate of change and gives you back a function measuring the original, cumulative value.\r\n",
        "\r\n",
        "I focus on a simple example in data analysis for oil production. The set up we’ll picture is a pump lifting crude oil out of a well, which then flows through a pipe into a tank. The pipe is equipped with a meter that continuously measures the rate of fluid flow, and the tank is equipped with a sensor that detects the height of fluid in the tank and reports the volume of oil stored within.\r\n",
        "\r\n",
        "<img src='https://github.com/rahiakela/img-repo/blob/master/math-for-programmers/oil-pump.png?raw=1' width='800'/>\r\n",
        "\r\n",
        "The volume sensor measurements tell us the volume of oil in the tank as a function of time, while the flow meter measurements tell us the volume flowing into the tank per hour, also as a function of time. In this example, the volume is the cumulative value and the flow rate is its rate of change.\r\n",
        "\r\n",
        "Here, we solve two main problems. \r\n",
        "\r\n",
        "First, in our example, we start with known, cumulative volumes over time and calculate the flow rate as a function of time using the derivative. \r\n",
        "\r\n",
        "Second, we do the opposite task, starting with the flow rate as a function of time and calculating the cumulative volume of oil in the tank over time using the integral.\r\n",
        "\r\n",
        "<img src='https://github.com/rahiakela/img-repo/blob/master/math-for-programmers/oil-pump-flow-rate.png?raw=1' width='800'/>\r\n",
        "\r\n",
        "Even though its big ideas aren’t that complicated or foreign, calculus gets a bad reputation because it requires so much tedious algebra. For that reason, I focus on introducing new ideas but not a lot of new techniques.\r\n",
        "\r\n"
      ]
    },
    {
      "cell_type": "markdown",
      "metadata": {
        "id": "i8F_HXwt-LjX"
      },
      "source": [
        "## Setup"
      ]
    },
    {
      "cell_type": "code",
      "metadata": {
        "id": "ue8ezlTN-N4y",
        "outputId": "129e923d-1f46-4f59-acf3-3166ff2333d0",
        "colab": {
          "base_uri": "https://localhost:8080/"
        }
      },
      "source": [
        "!wget https://raw.githubusercontent.com/rahiakela/math-for-programmers/main/8-understanding-rate-of-changes/rate_of_changes.py"
      ],
      "execution_count": 1,
      "outputs": [
        {
          "output_type": "stream",
          "text": [
            "--2021-01-14 13:01:34--  https://raw.githubusercontent.com/rahiakela/math-for-programmers/main/8-understanding-rate-of-changes/rate_of_changes.py\n",
            "Resolving raw.githubusercontent.com (raw.githubusercontent.com)... 151.101.0.133, 151.101.64.133, 151.101.128.133, ...\n",
            "Connecting to raw.githubusercontent.com (raw.githubusercontent.com)|151.101.0.133|:443... connected.\n",
            "HTTP request sent, awaiting response... 200 OK\n",
            "Length: 1207 (1.2K) [text/plain]\n",
            "Saving to: ‘rate_of_changes.py’\n",
            "\n",
            "\rrate_of_changes.py    0%[                    ]       0  --.-KB/s               \rrate_of_changes.py  100%[===================>]   1.18K  --.-KB/s    in 0s      \n",
            "\n",
            "2021-01-14 13:01:35 (63.1 MB/s) - ‘rate_of_changes.py’ saved [1207/1207]\n",
            "\n"
          ],
          "name": "stdout"
        }
      ]
    },
    {
      "cell_type": "code",
      "metadata": {
        "id": "AbqJtwnQ_xrv"
      },
      "source": [
        "from rate_of_changes import *"
      ],
      "execution_count": 2,
      "outputs": []
    },
    {
      "cell_type": "markdown",
      "metadata": {
        "id": "mLZrWl6__X7R"
      },
      "source": [
        "## Calculating average flow rate"
      ]
    },
    {
      "cell_type": "markdown",
      "metadata": {
        "id": "E0oLHgtF_aVA"
      },
      "source": [
        "Let’s start by assuming we know the\r\n",
        "volume in the tank over time, which is\r\n",
        "encoded as a Python function called\r\n",
        "volume. This function takes as an\r\n",
        "argument, the time in hours after a\r\n",
        "predefined starting point, and returns\r\n",
        "the volume of oil in the tank at that\r\n",
        "time, measured in a unit called barrels\r\n",
        "(abbreviated “bbl”)."
      ]
    },
    {
      "cell_type": "code",
      "metadata": {
        "id": "7dODXdrU_Fxa",
        "outputId": "e4b27fb7-710e-4ebe-d731-f24b08272e2e",
        "colab": {
          "base_uri": "https://localhost:8080/",
          "height": 287
        }
      },
      "source": [
        "plot_volume(volume, 0, 10)"
      ],
      "execution_count": 3,
      "outputs": [
        {
          "output_type": "display_data",
          "data": {
            "image/png": "[encoded data removed]",
            "text/plain": [
              "<Figure size 432x288 with 1 Axes>"
            ]
          },
          "metadata": {
            "tags": [],
            "needs_background": "light"
          }
        }
      ]
    },
    {
      "cell_type": "markdown",
      "metadata": {
        "id": "7FoFTgmVAQBS"
      },
      "source": [
        "We want to move in the direction of finding the flow rate into the tank at any point in time, so for our first baby step, let’s calculate this in an intuitive way."
      ]
    },
    {
      "cell_type": "markdown",
      "metadata": {
        "id": "bpiEY-whAYgr"
      },
      "source": [
        "## Implementing an average_flow_rate"
      ]
    },
    {
      "cell_type": "markdown",
      "metadata": {
        "id": "O68rOxAlAaS4"
      },
      "source": [
        "The word per in “barrels per hour” suggests that we’re going to do some division to get our answer. The way to calculate the average flow rate is to take the total change in volume divided by the elapsed time.\r\n",
        "\r\n",
        "<img src='https://github.com/rahiakela/img-repo/blob/master/math-for-programmers/average-flow-rate-eq.png?raw=1' width='800'/>\r\n",
        "\r\n",
        "The elapsed time between the starting time $t_1$ and the ending time $t_2$ measured in hours is $t_2 – t_1$. If we have a function $V(t)$ that tells us volume as a function of time, the overall change in volume is the volume at $t_2$ minus the volume at $t_1$, or $V(t_2) – V(t_1)$.\r\n",
        "\r\n",
        "\r\n",
        "<img src='https://github.com/rahiakela/img-repo/blob/master/math-for-programmers/average-flow-rate-2-eq.png?raw=1' width='800'/>\r\n",
        "\r\n",
        "**This is how we calculate rates of change in different contexts.**\r\n",
        "\r\n",
        "For instance, your speed when driving a car is the rate at which you cover distance with respect to time. To calculate your average speed for a drive, you divide your total distance traveled in miles by the elapsed time in hours to get a result in miles per hour (mph).\r\n",
        "\r\n",
        "Our formula for average flow rate depends on the volume function V and the starting and ending times $t_1$ and $t_2$, which are the parameters we’ll pass to the corresponding Python function.\r\n",
        "\r\n",
        "```python\r\n",
        "def average_flow_rate(v,t1,t2):\r\n",
        "    return (v(t2) – v(t1))/(t2 – t1)\r\n",
        "```\r\n",
        "\r\n",
        "Now we want to know the average flow rate into the tank between the 4-hr\r\n",
        "mark and the 9-hr mark. In this case, t1 = 4 and t2 = 9. To find the starting and ending volumes, we can evaluate the volume function at these times:"
      ]
    },
    {
      "cell_type": "code",
      "metadata": {
        "id": "LuArywUT_9Ly",
        "outputId": "27ed1fd2-720e-4b65-b185-2a80bf7577d7",
        "colab": {
          "base_uri": "https://localhost:8080/"
        }
      },
      "source": [
        "volume(4)"
      ],
      "execution_count": 5,
      "outputs": [
        {
          "output_type": "execute_result",
          "data": {
            "text/plain": [
              "3.3"
            ]
          },
          "metadata": {
            "tags": []
          },
          "execution_count": 5
        }
      ]
    },
    {
      "cell_type": "code",
      "metadata": {
        "id": "Ob1j6L-dBpN2",
        "outputId": "d4a22b0a-b882-431b-8824-03b15dbd727c",
        "colab": {
          "base_uri": "https://localhost:8080/"
        }
      },
      "source": [
        "volume(9)"
      ],
      "execution_count": 6,
      "outputs": [
        {
          "output_type": "execute_result",
          "data": {
            "text/plain": [
              "5.253125"
            ]
          },
          "metadata": {
            "tags": []
          },
          "execution_count": 6
        }
      ]
    },
    {
      "cell_type": "code",
      "metadata": {
        "id": "3n3YEQpQBsm1",
        "outputId": "da7eca31-bb84-4060-def1-0649be960da7",
        "colab": {
          "base_uri": "https://localhost:8080/"
        }
      },
      "source": [
        "average_flow_rate(volume, 4, 9)"
      ],
      "execution_count": 7,
      "outputs": [
        {
          "output_type": "execute_result",
          "data": {
            "text/plain": [
              "0.390625"
            ]
          },
          "metadata": {
            "tags": []
          },
          "execution_count": 7
        }
      ]
    },
    {
      "cell_type": "markdown",
      "metadata": {
        "id": "89N0RE27Chib"
      },
      "source": [
        "Rounding for simplicity, the difference between the two volumes is 5.25 bbl – 3.3 bbl = 1.95 bbl, and the total elapsed time is 9 hr – 4 hr = 5 hr. Therefore, the average flow rate into the tank is roughly 1.95 bbl divided by 5 hr or 0.39 bbl/hr."
      ]
    },
    {
      "cell_type": "markdown",
      "metadata": {
        "id": "N_jokNr7DHVL"
      },
      "source": [
        "## Picturing the average flow rate with a secant line"
      ]
    },
    {
      "cell_type": "markdown",
      "metadata": {
        "id": "pjHktCktDIWM"
      },
      "source": [
        ""
      ]
    },
    {
      "cell_type": "code",
      "metadata": {
        "id": "52jk08yUBzxR"
      },
      "source": [
        ""
      ],
      "execution_count": null,
      "outputs": []
    }
  ]
}