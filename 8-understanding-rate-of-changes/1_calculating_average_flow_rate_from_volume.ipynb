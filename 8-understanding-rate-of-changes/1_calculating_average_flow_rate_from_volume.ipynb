{
  "nbformat": 4,
  "nbformat_minor": 0,
  "metadata": {
    "colab": {
      "name": "1-calculating-average-flow-rate-from-volume.ipynb",
      "provenance": [],
      "authorship_tag": "ABX9TyNl+U3BaUcXyK3di6Kzus6q",
      "include_colab_link": true
    },
    "kernelspec": {
      "name": "python3",
      "display_name": "Python 3"
    }
  },
  "cells": [
    {
      "cell_type": "markdown",
      "metadata": {
        "id": "view-in-github",
        "colab_type": "text"
      },
      "source": [
        "<a href=\"https://colab.research.google.com/github/rahiakela/math-for-programmers/blob/main/8-understanding-rate-of-changes/1_calculating_average_flow_rate_from_volume.ipynb\" target=\"_parent\"><img src=\"https://colab.research.google.com/assets/colab-badge.svg\" alt=\"Open In Colab\"/></a>"
      ]
    },
    {
      "cell_type": "markdown",
      "metadata": {
        "id": "a4hfP4jf7UJp"
      },
      "source": [
        "# Calculating average flow rate from volume"
      ]
    }
  ]
}