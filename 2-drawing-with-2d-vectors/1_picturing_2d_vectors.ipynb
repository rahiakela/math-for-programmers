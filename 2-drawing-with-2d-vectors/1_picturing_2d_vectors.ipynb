{
  "nbformat": 4,
  "nbformat_minor": 0,
  "metadata": {
    "colab": {
      "name": "1-picturing-2d-vectors.ipynb",
      "provenance": [],
      "authorship_tag": "ABX9TyOGmEPwfGBMWzLpNxciaw35",
      "include_colab_link": true
    },
    "kernelspec": {
      "name": "python3",
      "display_name": "Python 3"
    }
  },
  "cells": [
    {
      "cell_type": "markdown",
      "metadata": {
        "id": "view-in-github",
        "colab_type": "text"
      },
      "source": [
        "<a href=\"https://colab.research.google.com/github/rahiakela/math-for-programmers/blob/main/2-drawing-with-2d-vectors/1_picturing_2d_vectors.ipynb\" target=\"_parent\"><img src=\"https://colab.research.google.com/assets/colab-badge.svg\" alt=\"Open In Colab\"/></a>"
      ]
    },
    {
      "cell_type": "markdown",
      "metadata": {
        "id": "m3PkJlw0xdSc"
      },
      "source": [
        "# Picturing 2D vectors"
      ]
    },
    {
      "cell_type": "markdown",
      "metadata": {
        "id": "5zHgWPGMxeSl"
      },
      "source": [
        "A two-dimensional (2D) object is flat like an image on a piece of paper or a computer screen. It has only the dimensions of height and width. A\r\n",
        "three-dimensional (3D) object in our physical world, however, has not only height and width but also depth.\r\n",
        "\r\n",
        "Even though our everyday experience takes place in three dimensions, it's useful to think of some data as higher dimensional. In physics, it’s common to consider time as the fourth dimension. While an object exists at a location in 3D space, an event occurs at a 3D location and at a specified moment. In data science problems, it’s common for data sets to have far more dimensions.\r\n",
        "\r\n",
        "Grappling with these problems in graphics, physics, and data analysis requires a framework for dealing with data in higher dimensions. This framework is vector mathematics.\r\n",
        "\r\n",
        "Vectors are objects that live in multi-dimensional spaces. These have their own\r\n",
        "notions of arithmetic (adding, multiplying, and so on).\r\n",
        "\r\n"
      ]
    },
    {
      "cell_type": "markdown",
      "metadata": {
        "id": "fahYkXS9yUJT"
      },
      "source": [
        "## Introduction"
      ]
    },
    {
      "cell_type": "markdown",
      "metadata": {
        "id": "agfgo7c3yWo-"
      },
      "source": [
        "The 2D world is flat like a piece of paper or a computer screen. In the language of math, a flat, 2D space is referred to as a plane. An object living in a 2D plane has the two dimensions of height and width but no third dimension of depth. Likewise, you can describe locations in 2D by two pieces of information: their vertical and horizontal positions. To describe the location of points in the plane, you need a reference point. We call that special reference point the origin.\r\n",
        "\r\n",
        "<img src='https://github.com/rahiakela/img-repo/blob/master/math-for-programmers/origin-points.png?raw=1' width='800'/>\r\n",
        "\r\n"
      ]
    }
  ]
}