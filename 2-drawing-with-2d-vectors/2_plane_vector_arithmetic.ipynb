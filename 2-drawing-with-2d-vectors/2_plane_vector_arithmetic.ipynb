{
  "nbformat": 4,
  "nbformat_minor": 0,
  "metadata": {
    "colab": {
      "name": "2-plane-vector-arithmetic.ipynb",
      "provenance": [],
      "toc_visible": true,
      "authorship_tag": "ABX9TyPoToY05ypTDUyyS1DtSbjj",
      "include_colab_link": true
    },
    "kernelspec": {
      "name": "python3",
      "display_name": "Python 3"
    }
  },
  "cells": [
    {
      "cell_type": "markdown",
      "metadata": {
        "id": "view-in-github",
        "colab_type": "text"
      },
      "source": [
        "<a href=\"https://colab.research.google.com/github/rahiakela/math-for-programmers/blob/main/2-drawing-with-2d-vectors/2_plane_vector_arithmetic.ipynb\" target=\"_parent\"><img src=\"https://colab.research.google.com/assets/colab-badge.svg\" alt=\"Open In Colab\"/></a>"
      ]
    },
    {
      "cell_type": "markdown",
      "metadata": {
        "id": "m3PkJlw0xdSc"
      },
      "source": [
        "# Plane vector arithmetic"
      ]
    },
    {
      "cell_type": "markdown",
      "metadata": {
        "id": "5zHgWPGMxeSl"
      },
      "source": [
        "A two-dimensional (2D) object is flat like an image on a piece of paper or a computer screen. It has only the dimensions of height and width. A\r\n",
        "three-dimensional (3D) object in our physical world, however, has not only height and width but also depth.\r\n",
        "\r\n",
        "Even though our everyday experience takes place in three dimensions, it's useful to think of some data as higher dimensional. In physics, it’s common to consider time as the fourth dimension. While an object exists at a location in 3D space, an event occurs at a 3D location and at a specified moment. In data science problems, it’s common for data sets to have far more dimensions.\r\n",
        "\r\n",
        "Grappling with these problems in graphics, physics, and data analysis requires a framework for dealing with data in higher dimensions. This framework is vector mathematics.\r\n",
        "\r\n",
        "Vectors are objects that live in multi-dimensional spaces. These have their own\r\n",
        "notions of arithmetic (adding, multiplying, and so on).\r\n",
        "\r\n"
      ]
    },
    {
      "cell_type": "markdown",
      "metadata": {
        "id": "kbO1PhigRunk"
      },
      "source": [
        "## Setup"
      ]
    },
    {
      "cell_type": "code",
      "metadata": {
        "colab": {
          "base_uri": "https://localhost:8080/"
        },
        "id": "Twa1-qdmRv2K",
        "outputId": "3f4c1148-d6d9-4ab2-acfa-37f64e15920d"
      },
      "source": [
        "!wget https://raw.githubusercontent.com/rahiakela/math-for-programmers/main/2-drawing-with-2d-vectors/vector_drawing.py"
      ],
      "execution_count": 1,
      "outputs": [
        {
          "output_type": "stream",
          "text": [
            "--2020-12-27 06:40:10--  https://raw.githubusercontent.com/rahiakela/math-for-programmers/main/2-drawing-with-2d-vectors/vector_drawing.py\n",
            "Resolving raw.githubusercontent.com (raw.githubusercontent.com)... 151.101.0.133, 151.101.64.133, 151.101.128.133, ...\n",
            "Connecting to raw.githubusercontent.com (raw.githubusercontent.com)|151.101.0.133|:443... connected.\n",
            "HTTP request sent, awaiting response... 200 OK\n",
            "Length: 4645 (4.5K) [text/plain]\n",
            "Saving to: ‘vector_drawing.py’\n",
            "\n",
            "vector_drawing.py   100%[===================>]   4.54K  --.-KB/s    in 0s      \n",
            "\n",
            "2020-12-27 06:40:10 (19.6 MB/s) - ‘vector_drawing.py’ saved [4645/4645]\n",
            "\n"
          ],
          "name": "stdout"
        }
      ]
    },
    {
      "cell_type": "code",
      "metadata": {
        "id": "bkqNeKxJR3BF"
      },
      "source": [
        "from math import sqrt\r\n",
        "from vector_drawing import * "
      ],
      "execution_count": 2,
      "outputs": []
    },
    {
      "cell_type": "code",
      "metadata": {
        "colab": {
          "base_uri": "https://localhost:8080/",
          "height": 324
        },
        "id": "-qAry1BCR7pi",
        "outputId": "fcd432ec-31bf-4e24-f454-9ce1ca2b2d45"
      },
      "source": [
        "# we can draw the points outlining the dinosaur\r\n",
        "dino_vectors = [\r\n",
        "  (6,4), (3,1), (1,2), (-1,5), (-2,5), (-3,4), (-4,4),\r\n",
        "  (-5,3), (-5,2), (-2,2), (-5,1), (-4,0), (-2,1), (-1,0), (0,-3),\r\n",
        "  (-1,-4), (1,-4), (2,-3), (1,-2), (3,-1), (5,1)          \r\n",
        "]\r\n",
        "\r\n",
        "draw(Points(*dino_vectors))"
      ],
      "execution_count": 3,
      "outputs": [
        {
          "output_type": "display_data",
          "data": {
            "image/png": "[encoded data removed]",
            "text/plain": [
              "<Figure size 432x365.538 with 1 Axes>"
            ]
          },
          "metadata": {
            "tags": [],
            "needs_background": "light"
          }
        }
      ]
    },
    {
      "cell_type": "markdown",
      "metadata": {
        "id": "fahYkXS9yUJT"
      },
      "source": [
        "## Introduction"
      ]
    },
    {
      "cell_type": "markdown",
      "metadata": {
        "id": "agfgo7c3yWo-"
      },
      "source": [
        "Like numbers, vectors have their own kind of arithmetic; we can combine vectors with operations to make new vectors. The difference with vectors is that we can visualize the results. Operations from vector arithmetic all accomplish useful geometric transformations, not just algebraic ones. We’ll start with the most basic operation: **vector addition**.\r\n",
        "\r\n",
        "Vector addition is simple to calculate: given two input vectors, you add their\r\n",
        "x-coordinates to get the resulting x-coordinate and then you add their y-coordinates to get the resulting y-coordinate. Creating a new vector with these summed coordinates gives you the vector sum of the original vectors. For instance, `(4, 3) + (–1, 1) = (3, 4)` because `4 + (–1) = 3` and `3 + 1 = 4`.\r\n",
        "\r\n",
        "Vector addition is a one-liner to implement in Python:\r\n",
        "\r\n"
      ]
    },
    {
      "cell_type": "code",
      "metadata": {
        "id": "cEyVM2d-JeMo"
      },
      "source": [
        "def add(v1, v2):\r\n",
        "  return (v1[0] + v2[0], v1[1] + v2[1])"
      ],
      "execution_count": 4,
      "outputs": []
    },
    {
      "cell_type": "code",
      "metadata": {
        "colab": {
          "base_uri": "https://localhost:8080/"
        },
        "id": "p6HvEUMMJuB1",
        "outputId": "3028ecb6-d342-48bf-a77e-e0bfead09d7c"
      },
      "source": [
        "v1 = [4, 3]\r\n",
        "v2 = [-1, 1]\r\n",
        "add(v1, v2)"
      ],
      "execution_count": 5,
      "outputs": [
        {
          "output_type": "execute_result",
          "data": {
            "text/plain": [
              "(3, 4)"
            ]
          },
          "metadata": {
            "tags": []
          },
          "execution_count": 5
        }
      ]
    },
    {
      "cell_type": "markdown",
      "metadata": {
        "id": "Z-e0ay3KMBJP"
      },
      "source": [
        "Because we can interpret vectors as arrows or as points in the plane, we can visualize the result of the addition in both ways. As a point in the plane, you can reach `(–1, 1)` by starting at the origin, which is `(0, 0)`, and move one unit to the left and one unit up. You reach the vector sum of `(4, 3) + (–1, 1)` by starting instead at `(4, 3)` and moving one unit to the left and one unit up. This is the same as saying you traverse one arrow and then traverse the second arrow, in other words, you have moved forward.\r\n",
        "\r\n",
        "<img src='https://github.com/rahiakela/img-repo/blob/master/math-for-programmers/vector-sum.png?raw=1' width='800'/>\r\n",
        "\r\n",
        "The rule for vector addition of arrows is sometimes called tip-to-tail addition. That’s because if you move the tail of the second arrow to the tip of the first (without changing its length or direction!), then the sum is the arrow from the start of the first to the end of the second.\r\n",
        "\r\n",
        "<img src='https://github.com/rahiakela/img-repo/blob/master/math-for-programmers/tip-to-tail.png?raw=1' width='800'/>\r\n",
        "\r\n",
        "When we talk about arrows, we really mean “a specific distance in a specific direction.” If you walk one distance in one direction andanother distance in  another direction, the vector sum tells you the overall distance and\r\n",
        "direction you traveled.\r\n",
        "\r\n",
        "<img src='https://github.com/rahiakela/img-repo/blob/master/math-for-programmers/vector-sum-distance.png?raw=1' width='800'/>\r\n",
        "\r\n",
        "**Adding a vector has the effect of moving or translating an existing point or collection of points.**\r\n",
        "\r\n",
        "If we add the vector `(–1.5, –2.5)` to every vector of dino_vectors, we get a new list of vectors, each of which is `1.5` units left and `2.5` units down from one of the original vectors.\r\n",
        "\r\n"
      ]
    },
    {
      "cell_type": "code",
      "metadata": {
        "id": "4ddvOL9CSA9M"
      },
      "source": [
        "dino_vectors2 = [add((-1.5, -2.5), v) for v in dino_vectors]"
      ],
      "execution_count": 6,
      "outputs": []
    },
    {
      "cell_type": "markdown",
      "metadata": {
        "id": "oUpeDwUVSUYF"
      },
      "source": [
        "The result is the same dinosaur shape shifted down and to the left by the vector `(–1.5, –2.5)`."
      ]
    },
    {
      "cell_type": "code",
      "metadata": {
        "colab": {
          "base_uri": "https://localhost:8080/",
          "height": 352
        },
        "id": "nttuz4T8Sc0b",
        "outputId": "f70bb48e-c6af-468f-d64a-f53aedffd539"
      },
      "source": [
        "draw(\r\n",
        "    Points(*dino_vectors, color=blue),\r\n",
        "    Polygon(*dino_vectors, color=blue),\r\n",
        "    Points(*dino_vectors2, color=red),\r\n",
        "    Polygon(*dino_vectors2, color=red)\r\n",
        ")"
      ],
      "execution_count": 7,
      "outputs": [
        {
          "output_type": "display_data",
          "data": {
            "image/png": "[encoded data removed]",
            "text/plain": [
              "<Figure size 432x403.2 with 1 Axes>"
            ]
          },
          "metadata": {
            "tags": [],
            "needs_background": "light"
          }
        }
      ]
    },
    {
      "cell_type": "code",
      "metadata": {
        "colab": {
          "base_uri": "https://localhost:8080/",
          "height": 352
        },
        "id": "zMcvW4DDTfVe",
        "outputId": "706e9404-60e5-4240-d5dc-f2821a1d0de3"
      },
      "source": [
        "arrows = [Segment(tip, tail, color=black) for tip, tail in zip(dino_vectors2, dino_vectors)]\r\n",
        "\r\n",
        "draw(\r\n",
        "    Points(*dino_vectors, color=blue),\r\n",
        "    Polygon(*dino_vectors, color=blue),\r\n",
        "    Points(*dino_vectors2, color=red),\r\n",
        "    Polygon(*dino_vectors2, color=red),\r\n",
        "    *arrows\r\n",
        ")"
      ],
      "execution_count": 8,
      "outputs": [
        {
          "output_type": "display_data",
          "data": {
            "image/png": "[encoded data removed]",
            "text/plain": [
              "<Figure size 432x403.2 with 1 Axes>"
            ]
          },
          "metadata": {
            "tags": [],
            "needs_background": "light"
          }
        }
      ]
    },
    {
      "cell_type": "markdown",
      "metadata": {
        "id": "u71GDeO_TeNL"
      },
      "source": [
        "A translation like this is useful if, for instance, we want to make the dinosaur a moving character in a 2D computer game. Depending on the button pressed by the user, the dinosaur could translate in the corresponding direction\r\n",
        "on the screen."
      ]
    },
    {
      "cell_type": "markdown",
      "metadata": {
        "id": "BWyHDaJE3JH5"
      },
      "source": [
        "## Vector components and lengths"
      ]
    },
    {
      "cell_type": "markdown",
      "metadata": {
        "id": "C0LIBn6q3KgB"
      },
      "source": [
        "Sometimes it’s useful to take a vector we already have and decompose it as a sum of smaller vectors. For example, if I were asking for walking directions in New York City, it would be much more useful to hear “go four blocks east and three blocks north” rather than “go 800 meters northeast.” **Similarly, it can be useful to think of vectors as a sum of a vector pointing in the x direction and a vector pointing in the y direction.**\r\n",
        "\r\n",
        "<img src='https://github.com/rahiakela/img-repo/blob/master/math-for-programmers/breaking-vector.png?raw=1' width='800'/>\r\n",
        "\r\n",
        "As an example, the vector (4, 3) rewritten as the sum (4, 0) +\r\n",
        "(0, 3). Thinking of the vector (4, 3) as a navigation path in the plane, the sum (4, 0) + (0, 3) gets us to the same point along a different path.\r\n",
        "\r\n",
        "The two vectors (4, 0) and (0, 3) are called the x and y components, respectively. If you couldn’t walk diagonally in this plane (as if it were New York City), you would need to walk four units to the right and then three units up to get to the same destination, a total of seven units.\r\n",
        "\r\n",
        "The length of a vector is the length of the arrow that represents it, or equivalently, the distance from the origin to the point that represents it.\r\n",
        "\r\n",
        "You may recall the relevant formula: the Pythagorean theorem. For a right triangle (a triangle having two sides meeting at a 90° angle), the Pythagorean theorem says that the square of the length of the longest side is the sum of squares of the lengths of the other two sides. The longest side is called the hypotenuse, and its length is denoted by $c$ in the memorable formula $a^2 + b^2 = c^2$, where a and $b$ are the lengths of the other two\r\n",
        "sides. With $a = 4$ and $b = 3$, we can find $c$ as the square root of `42 + 32`.\r\n",
        "\r\n",
        "<img src='https://github.com/rahiakela/img-repo/blob/master/math-for-programmers/pythagorean-theorem.png?raw=1' width='800'/>\r\n",
        "\r\n",
        "Breaking a vector into components is handy because it always gives us a right triangle. If we know the lengths of the components, we can compute the length of the hypotenuse, which is the length of the vector.\r\n",
        "\r\n",
        "We can translate this formula into a length function in Python, which takes a 2D vector and returns its floating-point length:\r\n",
        "\r\n"
      ]
    },
    {
      "cell_type": "code",
      "metadata": {
        "id": "-fryz36WocHl"
      },
      "source": [
        "def length(v):\r\n",
        "  return sqrt(v[0] ** 2 + v[1] ** 2)"
      ],
      "execution_count": 9,
      "outputs": []
    },
    {
      "cell_type": "code",
      "metadata": {
        "id": "sKDdTRGYozm9",
        "colab": {
          "base_uri": "https://localhost:8080/"
        },
        "outputId": "03652dca-643e-4841-b8b5-3ad1193370bf"
      },
      "source": [
        "v = [3, 7]\r\n",
        "print(length(v))"
      ],
      "execution_count": 10,
      "outputs": [
        {
          "output_type": "stream",
          "text": [
            "7.615773105863909\n"
          ],
          "name": "stdout"
        }
      ]
    },
    {
      "cell_type": "markdown",
      "metadata": {
        "id": "6Z_Eqvn_5F5f"
      },
      "source": [
        "## Multiplying vectors by numbers"
      ]
    },
    {
      "cell_type": "markdown",
      "metadata": {
        "id": "dkfKQher5G23"
      },
      "source": [
        "Repeated addition of vectors is unambiguous; you can keep stacking arrows tip-to-tail as long as you want. If a vector named v has coordinates (2, 1), then the fivefold sum v + v + v + v + v would look like that.\r\n",
        "\r\n",
        "<img src='https://github.com/rahiakela/img-repo/blob/master/math-for-programmers/repeated-addition.png?raw=1' width='800'/>\r\n",
        "\r\n",
        "If v were a number, we wouldn’t bother writing v + v + v + v + v. Instead, we’d write the simpler product 5 · v. There’s no reason we can’t do the same for vectors. The result of adding v to itself 5 times is a vector in the same direction but with 5 times the length. We can run with this definition,\r\n",
        "which lets us multiply a vector by any whole or fractional number.\r\n",
        "\r\n"
      ]
    },
    {
      "cell_type": "code",
      "metadata": {
        "id": "QFs_wKA9tVaN",
        "colab": {
          "base_uri": "https://localhost:8080/"
        },
        "outputId": "316a5810-0d53-443b-9f4a-074dc713c968"
      },
      "source": [
        "v = [2, 1]\r\n",
        "v = v + v + v + v + v\r\n",
        "print(v)"
      ],
      "execution_count": 11,
      "outputs": [
        {
          "output_type": "stream",
          "text": [
            "[2, 1, 2, 1, 2, 1, 2, 1, 2, 1]\n"
          ],
          "name": "stdout"
        }
      ]
    },
    {
      "cell_type": "code",
      "metadata": {
        "id": "6fvp-rQquSP_",
        "colab": {
          "base_uri": "https://localhost:8080/"
        },
        "outputId": "fb0d96d6-13d5-44df-93b6-b12e2e082bbd"
      },
      "source": [
        "def scale(v, scalar):\r\n",
        "  return (scalar * v[0], scalar * v[1])\r\n",
        "\r\n",
        "print(scale(v, 5))"
      ],
      "execution_count": 12,
      "outputs": [
        {
          "output_type": "stream",
          "text": [
            "(10, 5)\n"
          ],
          "name": "stdout"
        }
      ]
    },
    {
      "cell_type": "markdown",
      "metadata": {
        "id": "FpjAXEemtVx7"
      },
      "source": [
        "<img src='https://github.com/rahiakela/img-repo/blob/master/math-for-programmers/scalar-multiplication.png?raw=1' width='400'/>\r\n",
        "\r\n",
        "**The operation of multiplying a vector by a number is called scalar multiplication. When working with vectors, ordinary numbers are often called scalars. It’s also an appropriate term because the effect of this operation is\r\n",
        "scaling the target vector by the given factor.** It doesn’t matter if the scalar is a whole number; we can easily draw a vector that is 2.5 times the length of another.\r\n"
      ]
    },
    {
      "cell_type": "code",
      "metadata": {
        "id": "aNlIPiiKu6n9",
        "colab": {
          "base_uri": "https://localhost:8080/"
        },
        "outputId": "803be685-1779-4ff3-e9e8-9659ed0ac51a"
      },
      "source": [
        "v = [1, 1]\r\n",
        "print(scale(v, 2.5))"
      ],
      "execution_count": 13,
      "outputs": [
        {
          "output_type": "stream",
          "text": [
            "(2.5, 2.5)\n"
          ],
          "name": "stdout"
        }
      ]
    },
    {
      "cell_type": "markdown",
      "metadata": {
        "id": "vUifTy3Zu6-W"
      },
      "source": [
        "The result on the vector components is that each component is scaled by the same\r\n",
        "factor. You can picture scalar multiplication as changing the size of the right\r\n",
        "triangle defined by a vector and its components, but not affecting its aspect ratio. we can superimposes a vector v and its scalar multiple 1.5 · v, where the scalar multiple is 1.5 times as long. Its components are also 1.5 times the length of the original components of v.\r\n",
        "\r\n",
        "<img src='https://github.com/rahiakela/img-repo/blob/master/math-for-programmers/scalar-multiplication2.png?raw=1' width='800'/>"
      ]
    },
    {
      "cell_type": "code",
      "metadata": {
        "id": "A2iT4yi96LYJ",
        "colab": {
          "base_uri": "https://localhost:8080/"
        },
        "outputId": "4f2976ce-f3f1-4565-d903-057fc87e5840"
      },
      "source": [
        "v = [6, 4]\r\n",
        "print(scale(v, 1.5))"
      ],
      "execution_count": 14,
      "outputs": [
        {
          "output_type": "stream",
          "text": [
            "(9.0, 6.0)\n"
          ],
          "name": "stdout"
        }
      ]
    },
    {
      "cell_type": "markdown",
      "metadata": {
        "id": "2MxF_DrdvsCM"
      },
      "source": [
        "In coordinates, the scalar multiple of `1.5` times the vector `v = (6, 4)` gives us a new vector `(9, 6)`, where each component is `1.5` times its original value. Computationally, we execute any scalar multiplication on a vector by multiplying each coordinate of the vector by the scalar. As a second example, scaling a vector `w = (1.2, –3.1)` by a factor `6.5` can be accomplished like this:\r\n",
        "\r\n",
        "```python\r\n",
        "6.5 · w = 6.5 · (1.2, –3.1) = (6.5 · 1.2, 6.5 · –3.1) = (7.8, –20.15)\r\n",
        "```"
      ]
    },
    {
      "cell_type": "code",
      "metadata": {
        "id": "Dlt-reln6O-x",
        "colab": {
          "base_uri": "https://localhost:8080/"
        },
        "outputId": "c0ae0d2b-0096-41db-c9ae-1a9fa0bf80eb"
      },
      "source": [
        "w = [1.2, -3.1]\r\n",
        "print(scale(w, 6.5))"
      ],
      "execution_count": 15,
      "outputs": [
        {
          "output_type": "stream",
          "text": [
            "(7.8, -20.150000000000002)\n"
          ],
          "name": "stdout"
        }
      ]
    },
    {
      "cell_type": "markdown",
      "metadata": {
        "id": "P3x2_Etjwa1u"
      },
      "source": [
        "We tested this method for a fractional number as the scalar, but we should also test a negative number. If our original vector is (6, 4), what is –½ times that vector? Multiplying the coordinates, we expect the answer to be (–3, –2).This vector is half the length of the original and points in the opposite direction.\r\n",
        "\r\n",
        "<img src='https://github.com/rahiakela/img-repo/blob/master/math-for-programmers/scalar-multiplication3.png?raw=1' width='800'/>"
      ]
    },
    {
      "cell_type": "code",
      "metadata": {
        "id": "N7bRhqzT6hKm",
        "colab": {
          "base_uri": "https://localhost:8080/"
        },
        "outputId": "3b124cc8-ce32-454f-81dc-ca07730bb3df"
      },
      "source": [
        "w = [6, 4]\r\n",
        "print(scale(w, -0.5))"
      ],
      "execution_count": 16,
      "outputs": [
        {
          "output_type": "stream",
          "text": [
            "(-3.0, -2.0)\n"
          ],
          "name": "stdout"
        }
      ]
    },
    {
      "cell_type": "markdown",
      "metadata": {
        "id": "2AkKixT8-Ljr"
      },
      "source": [
        "## Subtraction, displacement, and distance"
      ]
    },
    {
      "cell_type": "markdown",
      "metadata": {
        "id": "qqjqGxkJxuEx"
      },
      "source": [
        "Scalar multiplication agrees with our intuition for multiplying numbers. A whole\r\n",
        "number multiple of a number is the same as a repeated sum, and the same holds for vectors. We can make a similar argument for negative vectors and vector subtraction.\r\n",
        "\r\n",
        "<img src='https://github.com/rahiakela/img-repo/blob/master/math-for-programmers/vector-opposite.png?raw=1' width='800'/>\r\n",
        "\r\n",
        "Given a vector $v$, the opposite vector, $–v$, is the same as the scalar multiple $–1 · v$. If $v$ is `(–4, 3)`, its opposite, $–v$, is `(4, –3)`. We get this by multiplying each coordinate by `–1`, or in other words, changing the sign of each.\r\n",
        "\r\n",
        "**On the number line, there are only two directions from zero: positive and negative.** In the plane, there are many directions (infinitely many, in fact), so we can’t say that one of $v$ and $–v$ is positive while the other is negative. What we can say is that for any vector v, the opposite vector $–v$ will have the same length, but it will point in the opposite direction.\r\n",
        "\r\n"
      ]
    },
    {
      "cell_type": "code",
      "metadata": {
        "id": "cQa1rbfmC7kP",
        "outputId": "a7f8cfa4-2fd3-40d6-a586-8697dd2badfc",
        "colab": {
          "base_uri": "https://localhost:8080/",
          "height": 309
        }
      },
      "source": [
        "draw(\r\n",
        "    Points((-4, 3), (4, -3)),\r\n",
        "    Segment((-4, 3), (4, -3), color=green)\r\n",
        ")"
      ],
      "execution_count": 21,
      "outputs": [
        {
          "output_type": "display_data",
          "data": {
            "image/png": "[encoded data removed]",
            "text/plain": [
              "<Figure size 432x345.6 with 1 Axes>"
            ]
          },
          "metadata": {
            "tags": [],
            "needs_background": "light"
          }
        }
      ]
    },
    {
      "cell_type": "markdown",
      "metadata": {
        "id": "ge4K_s5t_AOH"
      },
      "source": [
        "**Having a notion of negating a vector, we can define vector subtraction.** For numbers, $x – y$ is the same as $x + (–y)$. We set the same convention for vectors. To subtract a vector $w$ from a vector $v$, you add the vector $–w$ to $v$. Thinking of vectors $v$ and $w$ as points, $v – w$ is the position of $v$ relative to $w$. Thinking instead of $v$ and $w$ as arrows beginning at the origin.\r\n",
        "\r\n",
        "<img src='https://github.com/rahiakela/img-repo/blob/master/math-for-programmers/vector-subtracting.png?raw=1' width='800'/>\r\n",
        "\r\n",
        "The coordinates of $v – w$ are the differences of the coordinates $v$ and $w$.\r\n",
        "$v = (–1, 3)$ and $w = (2, 2)$. The difference for $v – w$ has the coordinates $(–1 – 2, 3 – 2) = (–3, 1)$."
      ]
    },
    {
      "cell_type": "code",
      "metadata": {
        "id": "D7QsdD9r-kmF",
        "colab": {
          "base_uri": "https://localhost:8080/"
        },
        "outputId": "7728eae3-346a-4292-875d-ae38904eb8a7"
      },
      "source": [
        "v = [-1, 3]\r\n",
        "w = [2, 2]\r\n",
        "\r\n",
        "add(v, scale(w, -1))"
      ],
      "execution_count": 22,
      "outputs": [
        {
          "output_type": "execute_result",
          "data": {
            "text/plain": [
              "(-3, 1)"
            ]
          },
          "metadata": {
            "tags": []
          },
          "execution_count": 22
        }
      ]
    },
    {
      "cell_type": "markdown",
      "metadata": {
        "id": "Ozv8SWooGID5"
      },
      "source": [
        "Let’s look at the difference of the vectors $v = (–1, 3)$ and $w = (2, 2)$ again."
      ]
    },
    {
      "cell_type": "code",
      "metadata": {
        "id": "KpPFmO7D_vfS",
        "colab": {
          "base_uri": "https://localhost:8080/",
          "height": 374
        },
        "outputId": "5625457e-7474-43f2-959c-197316816289"
      },
      "source": [
        "draw(\r\n",
        "    Points((2, 2), (-1, 3)),\r\n",
        "    Segment((2, 2), (-1, 3), color=red)\r\n",
        ")"
      ],
      "execution_count": 23,
      "outputs": [
        {
          "output_type": "display_data",
          "data": {
            "image/png": "[encoded data removed]",
            "text/plain": [
              "<Figure size 432x432 with 1 Axes>"
            ]
          },
          "metadata": {
            "tags": [],
            "needs_background": "light"
          }
        }
      ]
    },
    {
      "cell_type": "markdown",
      "metadata": {
        "id": "VeIQbwo3Gp21"
      },
      "source": [
        "**The difference for the vectors $v – w = (–3, 1)$ tells us that if we start at point $w$, we need to go three units left and one unit up to get to point $v$. This vector is sometimes called the displacement from $w$ to $v$.** The straight, red line segment from $w$ to $v$ shows the distance between the two points.\r\n",
        "\r\n",
        "The length of the line segment is computed with the Pythagorean theorem as follows:\r\n",
        "\r\n",
        "$$a^2 + b^2 = c^2$$\r\n",
        "$$c = \\sqrt{a^2 + b^2}$$\r\n",
        "$$\\sqrt{(-3)^2 + 1^2} = \\sqrt{9 + 1} = \\sqrt{10} = 3.162...$$\r\n",
        "\r\n",
        "<img src='https://github.com/rahiakela/img-repo/blob/master/math-for-programmers/several-points.png?raw=1' width='800'/>\r\n",
        "\r\n",
        "While the displacement is a vector, the distance is a scalar (a single\r\n",
        "number). The distance on its own is not enough to specify how to get\r\n",
        "from $w$ to $v$; there are plenty of points that have the same distance\r\n",
        "from $w$."
      ]
    },
    {
      "cell_type": "markdown",
      "metadata": {
        "id": "IDtchOz4I5jq"
      },
      "source": [
        ""
      ]
    }
  ]
}