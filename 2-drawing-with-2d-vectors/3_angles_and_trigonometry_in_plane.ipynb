{
  "nbformat": 4,
  "nbformat_minor": 0,
  "metadata": {
    "colab": {
      "name": "3-angles-and-trigonometry-in-plane.ipynb",
      "provenance": [],
      "authorship_tag": "ABX9TyP3MGImphpt+VIB7+jcbv6s",
      "include_colab_link": true
    },
    "kernelspec": {
      "name": "python3",
      "display_name": "Python 3"
    }
  },
  "cells": [
    {
      "cell_type": "markdown",
      "metadata": {
        "id": "view-in-github",
        "colab_type": "text"
      },
      "source": [
        "<a href=\"https://colab.research.google.com/github/rahiakela/math-for-programmers/blob/main/2-drawing-with-2d-vectors/3_angles_and_trigonometry_in_plane.ipynb\" target=\"_parent\"><img src=\"https://colab.research.google.com/assets/colab-badge.svg\" alt=\"Open In Colab\"/></a>"
      ]
    },
    {
      "cell_type": "markdown",
      "metadata": {
        "id": "XVRBeOjwhmfT"
      },
      "source": [
        "# Angles and trigonometry in the plane"
      ]
    },
    {
      "cell_type": "markdown",
      "metadata": {
        "id": "SgqDBsNKhnaH"
      },
      "source": [
        "So far, we’ve used two “rulers” (called the x-axis and the y-axis) to measure vectors in the plane. An arrow from the origin covers some measurable displacement in the horizontal and vertical directions, and these values uniquely specify the vector. Instead of using two rulers, we could just as well use a ruler and a protractor. Starting with the vector (4, 3), we can measure or calculate its length to be 5 units, and then use our protractor to identify the direction.\r\n",
        "\r\n",
        "<img src='https://github.com/rahiakela/img-repo/blob/master/math-for-programmers/protractor.png?raw=1' width='800'/>\r\n",
        "\r\n",
        "This vector has a length of 5 units, and it points in a direction approximately $37°$ counterclockwise from the positive half of the x-axis. This gives us a new pair of numbers $(5, 37°)$ that, like our original coordinates, uniquely specify the vector. **These numbers are called polar coordinates and are just as good at describing points in the plane as the ones we’ve worked with so far, called Cartesian coordinates.**\r\n",
        "\r\n",
        "Sometimes, like when we’re adding vectors, it’s easier to use Cartesian coordinates. Other times, polar coordinates are more useful; for instance, when we want to look at vectors rotated by some angle."
      ]
    },
    {
      "cell_type": "markdown",
      "metadata": {
        "id": "WfroHBoJil6D"
      },
      "source": [
        "## Setup"
      ]
    },
    {
      "cell_type": "code",
      "metadata": {
        "colab": {
          "base_uri": "https://localhost:8080/"
        },
        "id": "Oruql9sminIf",
        "outputId": "8a62db42-f32b-40e2-88e2-6425bc2b2d10"
      },
      "source": [
        "!wget https://raw.githubusercontent.com/rahiakela/math-for-programmers/main/2-drawing-with-2d-vectors/vector_drawing.py"
      ],
      "execution_count": 1,
      "outputs": [
        {
          "output_type": "stream",
          "text": [
            "--2020-12-29 12:49:06--  https://raw.githubusercontent.com/rahiakela/math-for-programmers/main/2-drawing-with-2d-vectors/vector_drawing.py\n",
            "Resolving raw.githubusercontent.com (raw.githubusercontent.com)... 151.101.0.133, 151.101.64.133, 151.101.128.133, ...\n",
            "Connecting to raw.githubusercontent.com (raw.githubusercontent.com)|151.101.0.133|:443... connected.\n",
            "HTTP request sent, awaiting response... 200 OK\n",
            "Length: 4645 (4.5K) [text/plain]\n",
            "Saving to: ‘vector_drawing.py’\n",
            "\n",
            "vector_drawing.py   100%[===================>]   4.54K  --.-KB/s    in 0s      \n",
            "\n",
            "2020-12-29 12:49:06 (61.4 MB/s) - ‘vector_drawing.py’ saved [4645/4645]\n",
            "\n"
          ],
          "name": "stdout"
        }
      ]
    },
    {
      "cell_type": "code",
      "metadata": {
        "id": "KERLY7smiqbg"
      },
      "source": [
        "from math import sqrt, sin, cos\r\n",
        "from math import tan, pi\r\n",
        "from vector_drawing import * "
      ],
      "execution_count": 5,
      "outputs": []
    },
    {
      "cell_type": "markdown",
      "metadata": {
        "id": "a_w9_3FrihOT"
      },
      "source": [
        "## From angles to components"
      ]
    },
    {
      "cell_type": "markdown",
      "metadata": {
        "id": "zFaond_iiiQz"
      },
      "source": [
        "First, we can position our protractor at the origin to find the right direction. We measure $116.57°$ counterclockwise from the positive x-axis and draw a line in that direction. Our vector (3, 116.57°) lies somewhere on this line.\r\n",
        "\r\n",
        "<img src='https://github.com/rahiakela/img-repo/blob/master/math-for-programmers/positive-protractor.png?raw=1' width='800'/>\r\n",
        "\r\n",
        "The next step is to take a ruler and measure a point that is three units from the origin in this direction. Once we’ve found it, we can measure the components\r\n",
        "and get our approximate coordinates `(–1.34, 2.68)`.\r\n",
        "\r\n",
        "<img src='https://github.com/rahiakela/img-repo/blob/master/math-for-programmers/measure-coordinates.png?raw=1' width='800'/>\r\n",
        "\r\n",
        "It may look like the angle $116.57°$ was a random choice, but it has a useful property. Starting from the origin and moving in that direction, you go up two units every time you go one unit to the left. Vectors that approximately lie along that line include `(–1, 2), (–3, 6)` and, of course, `(–1.34, 2.68)`; the y-coordinates are –2 times their x-coordinates.\r\n",
        "\r\n",
        "<img src='https://github.com/rahiakela/img-repo/blob/master/math-for-programmers/directions.png?raw=1' width='800'/>\r\n",
        "\r\n",
        "Given an angle, the coordinates of vectors along that angle will have a constant ratio. This ratio is called the tangent of the angle, and the tangent function is written as tan.\r\n",
        "\r\n",
        "```python\r\n",
        "tan(37°) ~ ¾\r\n",
        "tan(116.57°) ~ –2\r\n",
        "tan(45°) = 1\r\n",
        "tan(200°) ~ 0.36\r\n",
        "```\r\n",
        "\r\n",
        "The tangent function is a trigonometric function because it helps us measure triangles.\r\n",
        "\r\n",
        "**The tangent function is clearly related to our original problem of finding Cartesian coordinates for a vector given an angle and a distance. But it doesn’t actually provide the coordinates, only their ratio. For that, two other trigonometric functions are helpful: sine and cosine. If we measure some distance at some angle, the tangent of the angle gives us the vertical distance covered divided by the horizontal distance.**\r\n",
        "\r\n",
        "<img src='https://github.com/rahiakela/img-repo/blob/master/math-for-programmers/schematic-distances.png?raw=1' width='800'/>\r\n",
        "\r\n",
        "**By comparison, the sine and cosine give us the vertical and horizontal distance covered relative to the overall distance.**\r\n",
        "\r\n",
        "<img src='https://github.com/rahiakela/img-repo/blob/master/math-for-programmers/sin-cos.png?raw=1' width='800'/>\r\n",
        "\r\n",
        "Let’s look at the angle $37°$ for a concrete example. We saw that the point\r\n",
        "(4, 3) lies at a distance of 5 units from the origin at this angle.\r\n",
        "\r\n",
        "For every 5 units you travel at 37°, you cover approximately 3 vertical units.\r\n",
        "\r\n",
        "$$sin(37°) \\approx 3/5$$\r\n",
        "\r\n",
        "Similarly, for every 5 units you travel at 37°, you cover approximately 4 horizontal units, so we can write:\r\n",
        "\r\n",
        "$$cos(37°) \\approx 4/5$$\r\n",
        "\r\n",
        "**This is a general strategy for converting a vector in polar coordinates to corresponding Cartesian coordinates. If you know the sine and cosine of an angle $\\theta$ (the Greek letter theta, commonly used for angles) and a distance r traveled in that direction, the Cartesian coordinates are given by $(r · cos(\\theta), r · sin(\\theta))$.**\r\n",
        "\r\n",
        "<img src='https://github.com/rahiakela/img-repo/blob/master/math-for-programmers/polar-cartesian-coordinates.png?raw=1' width='800'/>"
      ]
    },
    {
      "cell_type": "markdown",
      "metadata": {
        "id": "6r__otHFn2WJ"
      },
      "source": [
        "## Radians and trigonometry in Python"
      ]
    },
    {
      "cell_type": "markdown",
      "metadata": {
        "id": "IF46dg7In3qa"
      },
      "source": [
        "The main hurdle is that Python’s built-in trigonometric functions use different\r\n",
        "units than the ones we’ve used. We expect $tan(45°) = 1$, for instance, but Python gives us a much different result:"
      ]
    },
    {
      "cell_type": "code",
      "metadata": {
        "colab": {
          "base_uri": "https://localhost:8080/"
        },
        "id": "5CbMXpqHoUSN",
        "outputId": "eac6b0f1-c2d5-4b5f-9e92-f4ae7f6e33d5"
      },
      "source": [
        "tan(45)"
      ],
      "execution_count": 3,
      "outputs": [
        {
          "output_type": "execute_result",
          "data": {
            "text/plain": [
              "1.6197751905438615"
            ]
          },
          "metadata": {
            "tags": []
          },
          "execution_count": 3
        }
      ]
    },
    {
      "cell_type": "markdown",
      "metadata": {
        "id": "pV3tXu7HoeBV"
      },
      "source": [
        "Python doesn’t use degrees, and neither do most mathematicians. Instead, they use units called radians to measure angles.\r\n",
        "\r\n",
        "$$1 radian \\approx 57.296°$$\r\n",
        "\r\n",
        "This may seem like an arbitrary conversion factor. Some more suggestive relationships between degrees and radians are given in terms of the special number $\\pi (pi)$, whose value is approximately 3.14159.\r\n",
        "\r\n",
        "$$\\pi radians = 180°$$\r\n",
        "$$2\\pi radians = 360°$$\r\n",
        "\r\n",
        "In radians, half a trip around a circle is an angle of $\\pi$ and a whole revolution is $2\\pi$. These respectively agree with the half and whole circumference of a circle of radius 1.\r\n",
        "\r\n",
        "<img src='https://github.com/rahiakela/img-repo/blob/master/math-for-programmers/radians-revolution.png?raw=1' width='800'/>\r\n",
        "\r\n",
        "You can think of radians as another kind of ratio: for a given angle, its measurement in radians tells you how many radiuses you’ve gone around the circle. Because of this special property, angle measurements without units are assumed to be radians. Noting that $45° = \\pi/4$ (radians), we can get the correct result for the tangent of this angle:"
      ]
    },
    {
      "cell_type": "code",
      "metadata": {
        "colab": {
          "base_uri": "https://localhost:8080/"
        },
        "id": "u_Qe9e7AoXHj",
        "outputId": "93115da3-9933-4c61-dc05-f615a20bffa0"
      },
      "source": [
        "tan(pi/4)"
      ],
      "execution_count": 4,
      "outputs": [
        {
          "output_type": "execute_result",
          "data": {
            "text/plain": [
              "0.9999999999999999"
            ]
          },
          "metadata": {
            "tags": []
          },
          "execution_count": 4
        }
      ]
    },
    {
      "cell_type": "markdown",
      "metadata": {
        "id": "pn71YkcqrfZ7"
      },
      "source": [
        "We can now make use of Python’s trigonometric functions to write a to_cartesian\r\n",
        "function, taking a pair of polar coordinates and returning corresponding Cartesian coordinates:"
      ]
    },
    {
      "cell_type": "code",
      "metadata": {
        "id": "OSSMyFvVrbDf"
      },
      "source": [
        "def to_cartesian(polar_vector):\r\n",
        "  length, angle = polar_vector[0], polar_vector[1]\r\n",
        "\r\n",
        "  return (length * cos(angle), length * sin(angle))"
      ],
      "execution_count": 6,
      "outputs": []
    },
    {
      "cell_type": "markdown",
      "metadata": {
        "id": "Enz0Q0yir-N2"
      },
      "source": [
        "Using this, we can verify that 5 units at an angle of 37° gets us close to the point (4, 3):"
      ]
    },
    {
      "cell_type": "code",
      "metadata": {
        "colab": {
          "base_uri": "https://localhost:8080/"
        },
        "id": "wYmTnZCKr7Rc",
        "outputId": "6b7367c6-ae73-49e0-8c0c-745e6849bc5c"
      },
      "source": [
        "angle = 37 * pi / 180\r\n",
        "to_cartesian((5, angle))"
      ],
      "execution_count": 7,
      "outputs": [
        {
          "output_type": "execute_result",
          "data": {
            "text/plain": [
              "(3.993177550236464, 3.0090751157602416)"
            ]
          },
          "metadata": {
            "tags": []
          },
          "execution_count": 7
        }
      ]
    },
    {
      "cell_type": "markdown",
      "metadata": {
        "id": "be0y8cL2sMby"
      },
      "source": [
        "Now that we can convert from polar coordinates to Cartesian coordinates, let’s see how to convert in the other direction."
      ]
    },
    {
      "cell_type": "markdown",
      "metadata": {
        "id": "C73DQ2RPsN8F"
      },
      "source": [
        "## From components back to angles"
      ]
    },
    {
      "cell_type": "markdown",
      "metadata": {
        "id": "p5lJ_aidsQE-"
      },
      "source": [
        ""
      ]
    },
    {
      "cell_type": "code",
      "metadata": {
        "id": "e1U_m-pOsImB"
      },
      "source": [
        ""
      ],
      "execution_count": null,
      "outputs": []
    }
  ]
}